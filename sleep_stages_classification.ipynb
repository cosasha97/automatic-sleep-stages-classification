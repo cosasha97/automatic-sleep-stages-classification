{
 "cells": [
  {
   "cell_type": "markdown",
   "metadata": {},
   "source": [
    "# Automatic Sleep Stages Classification\n",
    "\n",
    "Sasha Collin, Clément Nguyen\n",
    "\n",
    "April 1st, 2021"
   ]
  },
  {
   "cell_type": "code",
   "execution_count": 1,
   "metadata": {},
   "outputs": [],
   "source": [
    "import os\n",
    "import mne\n",
    "import numpy as np\n",
    "import pandas as pd\n",
    "import matplotlib.pyplot as plt\n",
    "from tqdm.notebook import tqdm\n",
    "from sklearn.cluster import KMeans\n",
    "from sklearn.metrics import accuracy_score, precision_score, recall_score, confusion_matrix\n",
    "\n",
    "from scripts.utils import DataLoader, j_means, features_relevance_analysis, features_relevance_analysis_2, best_cluster_assignment\n",
    "from scripts.features import fractal_dimension, dfa, shannon_entropy, fast_sampen_apen, multiscale_entropy"
   ]
  },
  {
   "cell_type": "markdown",
   "metadata": {},
   "source": [
    "## Load EEG data"
   ]
  },
  {
   "cell_type": "code",
   "execution_count": null,
   "metadata": {
    "scrolled": true
   },
   "outputs": [],
   "source": [
    "data_path = 'data'\n",
    "dataloader = DataLoader(path=data_path)\n",
    "\n",
    "for data in dataloader.get_data():\n",
    "    \n",
    "    id, night, labels = data['id'], data['night'], data['labels']\n",
    "    \n",
    "    eeg_fpz = data['data'][:,0,:]\n",
    "    eeg_pz = data['data'][:,1,:]\n",
    "    \n",
    "# Normalize data\n",
    "eeg_fpz_mean, eeg_fpz_std = eeg_fpz.reshape(-1).mean(), eeg_fpz.reshape(-1).std()\n",
    "eeg_pz_mean, eeg_pz_std = eeg_pz.reshape(-1).mean(), eeg_pz.reshape(-1).std()\n",
    "eeg_fpz = (eeg_fpz - eeg_fpz_mean)/eeg_fpz_std\n",
    "eeg_pz = (eeg_pz - eeg_pz_mean)/eeg_pz_std\n",
    "\n",
    "num_epochs = eeg_fpz.shape[0]"
   ]
  },
  {
   "cell_type": "markdown",
   "metadata": {},
   "source": [
    "## Compute entropy features"
   ]
  },
  {
   "cell_type": "code",
   "execution_count": 3,
   "metadata": {},
   "outputs": [],
   "source": [
    "features_path = os.path.join(data_path, 'features_18_2.csv') # path to pre-computed features\n",
    "load_features = os.path.exists(features_path)\n",
    "save_features = False\n",
    "\n",
    "entropy_features = [\n",
    "    'FD-Fpz','FD-Pz','HFD-Fpz','HFD-Pz','KFD-Fpz','KFD-Pz', # fractal dimension\n",
    "    'DFA-a1-Fpz','DFA-a2-Fpz','DFA-a1-Pz','DFA-a2-Pz', # DFA\n",
    "    'H-Fpz','H-Pz', # shannon entropy\n",
    "    'ApEn-m1-Fpz','ApEn-m2-Fpz','ApEn-m1-Pz','ApEn-m2-Pz', # approximate entropy\n",
    "    'SampEn-m1-Fpz','SampEn-m2-Fpz','SampEn-m1-Pz','SampEn-m2-Pz',# sample entropy \n",
    "    'MSE-tau2-Fpz','MSE-tau3-Fpz','MSE-tau4-Fpz','MSE-tau5-Fpz','MSE-tau6-Fpz', # multiscale entropy\n",
    "    'MSE-tau2-Pz','MSE-tau3-Pz','MSE-tau4-Pz','MSE-tau5-Pz','MSE-tau6-Pz'\n",
    "]"
   ]
  },
  {
   "cell_type": "code",
   "execution_count": 4,
   "metadata": {
    "scrolled": true
   },
   "outputs": [
    {
     "name": "stdout",
     "output_type": "stream",
     "text": [
      "Pre-computed features found. Loading features.\n"
     ]
    }
   ],
   "source": [
    "if load_features:\n",
    "    print('Pre-computed features found. Loading features.')\n",
    "    features = pd.read_csv(features_path)\n",
    "\n",
    "else: # takes some time to compute features\n",
    "    print('Pre-computed features not found. Computing features.')\n",
    "    features = {}\n",
    "    features['id'] = [id for k in range(num_epochs)]\n",
    "    features['night'] = [night for k in range(num_epochs)]\n",
    "    features['label'] = list(labels)\n",
    "    for ft in entropy_features: \n",
    "        features[ft] = []\n",
    "\n",
    "    for i in tqdm(range(num_epochs)):\n",
    "\n",
    "        eeg_fpz_i = eeg_fpz[i]\n",
    "        eeg_pz_i = eeg_pz[i]\n",
    "\n",
    "        # Fractal dimension \n",
    "        features['FD-Fpz'].append(fractal_dimension(eeg_fpz_i))\n",
    "        features['FD-Pz'].append(fractal_dimension(eeg_pz_i))\n",
    "\n",
    "        features['HFD-Fpz'].append(higuchi_fractal_dimension(eeg_fpz_i))\n",
    "        features['HFD-Pz'].append(higuchi_fractal_dimension(eeg_pz_i))\n",
    "\n",
    "        features['KFD-Fpz'].append(katz_fractal_dimension(eeg_fpz_i))\n",
    "        features['KFD-Pz'].append(katz_fractal_dimension(eeg_pz_i))\n",
    "\n",
    "        # Detrended Fluctuation Analysis\n",
    "        features['DFA-a1-Fpz'].append(dfa(eeg_fpz_i, 4, 16))\n",
    "        features['DFA-a2-Fpz'].append(dfa(eeg_fpz_i, 16, 64))\n",
    "        features['DFA-a1-Pz'].append(dfa(eeg_pz_i, 4, 16))\n",
    "        features['DFA-a2-Pz'].append(dfa(eeg_pz_i, 16, 64))\n",
    "\n",
    "        # Shannon Entropy\n",
    "        features['H-Fpz'].append(shannon_entropy(eeg_fpz_i))\n",
    "        features['H-Pz'].append(shannon_entropy(eeg_pz_i))\n",
    "\n",
    "        # Approximate Entropy & Sample Entropy\n",
    "        sampen, apen = fast_sampen_apen(eeg_fpz_i, 3)\n",
    "        features['ApEn-m1-Fpz'].append(apen[0])\n",
    "        features['ApEn-m2-Fpz'].append(apen[1])\n",
    "        features['SampEn-m1-Fpz'].append(sampen[0])\n",
    "        features['SampEn-m2-Fpz'].append(sampen[1])\n",
    "\n",
    "        sampen, apen = fast_sampen_apen(eeg_pz_i, 3)\n",
    "        features['ApEn-m1-Pz'].append(apen[0])\n",
    "        features['ApEn-m2-Pz'].append(apen[1])\n",
    "        features['SampEn-m1-Pz'].append(sampen[0])\n",
    "        features['SampEn-m2-Pz'].append(sampen[1])\n",
    "\n",
    "        # Multiscale Entropy\n",
    "        taus = [2,3,4,5,6]\n",
    "        for tau in taus:\n",
    "            features['MSE-tau{}-Fpz'.format(tau)].append(multiscale_entropy(eeg_fpz_i, 2, tau))\n",
    "            features['MSE-tau{}-Pz'.format(tau)].append(multiscale_entropy(eeg_pz_i, 2, tau))\n",
    "\n",
    "    features = pd.DataFrame.from_dict(features)\n",
    "    features[entropy_features] = features[entropy_features].astype('float32')\n",
    "    features[['id', 'night', 'label']] = features[['id', 'night', 'label']].astype('int8')\n",
    "    \n",
    "    if save_features:\n",
    "        df.to_csv(features_path, index=False)"
   ]
  },
  {
   "cell_type": "code",
   "execution_count": 5,
   "metadata": {},
   "outputs": [],
   "source": [
    "subjects, nepochs = np.unique(features[['id','night']].to_numpy(), return_counts=True, axis=0)"
   ]
  },
  {
   "cell_type": "markdown",
   "metadata": {},
   "source": [
    "## Feature relevance analysis"
   ]
  },
  {
   "cell_type": "code",
   "execution_count": 6,
   "metadata": {
    "scrolled": false
   },
   "outputs": [
    {
     "data": {
      "image/png": "[encoded data removed]",
      "text/plain": [
       "<Figure size 1008x576 with 1 Axes>"
      ]
     },
     "metadata": {
      "needs_background": "light"
     },
     "output_type": "display_data"
    }
   ],
   "source": [
    "# Compute feature weights\n",
    "\n",
    "feature_weights = np.zeros((subjects.shape[0], len(entropy_features)))\n",
    "for i, (id, night) in enumerate(subjects):\n",
    "    subject_features = features[(features['id']==id) & (features['night']==night)]\n",
    "    X = subject_features[entropy_features].to_numpy()\n",
    "    feature_weights[i] = features_relevance_analysis_2(X)[1]\n",
    "feature_weights = feature_weights.mean(axis=0)\n",
    "\n",
    "\n",
    "# Plot feature relevance\n",
    "\n",
    "plt.figure(figsize = (14,8))\n",
    "plt.barh([3*i for i in range(len(entropy_features))], feature_weights[::-1], tick_label=entropy_features[::-1], height=2)\n",
    "plt.xticks([])\n",
    "plt.title('Feature relevance')\n",
    "plt.show()"
   ]
  },
  {
   "cell_type": "code",
   "execution_count": 7,
   "metadata": {
    "scrolled": true
   },
   "outputs": [
    {
     "name": "stdout",
     "output_type": "stream",
     "text": [
      "Most relevant features :  ['KFD-Fpz', 'SampEn-m2-Pz', 'FD-Fpz', 'DFA-a2-Pz', 'H-Pz', 'SampEn-m1-Fpz', 'ApEn-m2-Fpz', 'MSE-tau5-Pz']\n"
     ]
    }
   ],
   "source": [
    "num_relevant_features = 8\n",
    "relevant_features = np.argsort(feature_weights)[::-1]\n",
    "relevant_features = [entropy_features[relevant_features[idx]] for idx in relevant_features[:num_relevant_features]]\n",
    "print('Most relevant features : ', relevant_features)"
   ]
  },
  {
   "cell_type": "markdown",
   "metadata": {},
   "source": [
    "## Clustering"
   ]
  },
  {
   "cell_type": "code",
   "execution_count": 8,
   "metadata": {
    "scrolled": true
   },
   "outputs": [
    {
     "name": "stdout",
     "output_type": "stream",
     "text": [
      "ID : 18 | Night 2\n",
      "Looking for possible jumps | it  1  | value :  104\n"
     ]
    },
    {
     "data": {
      "application/vnd.jupyter.widget-view+json": {
       "model_id": "506a47ae1b4d44b2b53d6cc826d3abec",
       "version_major": 2,
       "version_minor": 0
      },
      "text/plain": [
       "HBox(children=(FloatProgress(value=0.0, max=831.0), HTML(value='')))"
      ]
     },
     "metadata": {},
     "output_type": "display_data"
    },
    {
     "name": "stdout",
     "output_type": "stream",
     "text": [
      "\n",
      "Looking for possible jumps | it  1  | value :  20\n"
     ]
    },
    {
     "data": {
      "application/vnd.jupyter.widget-view+json": {
       "model_id": "8c9380252df7429da064fc7dcb63f31d",
       "version_major": 2,
       "version_minor": 0
      },
      "text/plain": [
       "HBox(children=(FloatProgress(value=0.0, max=857.0), HTML(value='')))"
      ]
     },
     "metadata": {},
     "output_type": "display_data"
    },
    {
     "name": "stdout",
     "output_type": "stream",
     "text": [
      "Jump found | old: 20.881926552955363 | new 20.88187312493853\n",
      "Jump found | old: 20.88187312493853 | new 20.88186042068632\n",
      "Jump found | old: 20.88186042068632 | new 20.881716446758393\n",
      "\n",
      "Looking for possible jumps | it  2  | value :  20\n"
     ]
    },
    {
     "data": {
      "application/vnd.jupyter.widget-view+json": {
       "model_id": "8735f8125a9548849b85439301e4ec53",
       "version_major": 2,
       "version_minor": 0
      },
      "text/plain": [
       "HBox(children=(FloatProgress(value=0.0, max=857.0), HTML(value='')))"
      ]
     },
     "metadata": {},
     "output_type": "display_data"
    },
    {
     "name": "stdout",
     "output_type": "stream",
     "text": [
      "\n"
     ]
    }
   ],
   "source": [
    "results = []\n",
    "\n",
    "for i, (id, night) in enumerate(subjects):\n",
    "    \n",
    "    print('ID : {} | Night {}'.format(id, night))    \n",
    "\n",
    "    subject_features = features[(features['id']==id) & (features['night']==night)]\n",
    "\n",
    "    y = subject_features.label.to_numpy()\n",
    "    X_all = subject_features[entropy_features].to_numpy()\n",
    "    X_relevant = subject_features[relevant_features].to_numpy()\n",
    "    X_projected, _ = features_relevance_analysis(X_all, variance_criterion=0.98)\n",
    "    \n",
    "    tmp_res = []\n",
    "    \n",
    "    for X in [X_relevant, X_projected]: \n",
    "        scores = {}\n",
    "        \n",
    "        # J-means\n",
    "        pred, centroids = j_means(X, n_clusters=5, random_init=False)\n",
    "        cluster_to_label = best_cluster_assignment(y, pred)\n",
    "        pred_label = [cluster_to_label[cluster] for cluster in pred]\n",
    "\n",
    "        scores['jmeans'] = {\n",
    "            'accuracy': accuracy_score(y, pred_label),\n",
    "            'precision': precision_score(y, pred_label, average=None),\n",
    "            'avg_precision': precision_score(y, pred_label, average='macro'),\n",
    "            'recall': recall_score(y, pred_label, average=None),\n",
    "            'avg_recall': recall_score(y, pred_label, average='macro')\n",
    "        }\n",
    "        \n",
    "        # K-means\n",
    "        kmeans = KMeans(n_clusters=5)\n",
    "        pred = kmeans.fit_predict(X)\n",
    "        cluster_to_label = best_cluster_assignment(y, pred)\n",
    "        pred_label = [cluster_to_label[cluster] for cluster in pred]\n",
    "\n",
    "        scores['kmeans'] = {\n",
    "            'accuracy': accuracy_score(y, pred_label),\n",
    "            'precision': precision_score(y, pred_label, average=None),\n",
    "            'avg_precision': precision_score(y, pred_label, average='macro'),\n",
    "            'recall': recall_score(y, pred_label, average=None),\n",
    "            'avg_recall': recall_score(y, pred_label, average='macro')\n",
    "        }\n",
    "        \n",
    "        tmp_res.append(scores)\n",
    "    results.append(tmp_res)"
   ]
  },
  {
   "cell_type": "markdown",
   "metadata": {},
   "source": [
    "## Results"
   ]
  },
  {
   "cell_type": "markdown",
   "metadata": {},
   "source": [
    "### J-means"
   ]
  },
  {
   "cell_type": "code",
   "execution_count": 9,
   "metadata": {
    "scrolled": false
   },
   "outputs": [
    {
     "name": "stdout",
     "output_type": "stream",
     "text": [
      "                       Accuracy    Average precision       Average recall\n",
      "Relevant features         0.688               0.7026               0.6826\n",
      "Projected features       0.6424               0.6649               0.6495\n"
     ]
    }
   ],
   "source": [
    "# J-means accuracy\n",
    "print('{:<20} {:>10} {:>20} {:>20}'.format('','Accuracy', 'Average precision', 'Average recall'))\n",
    "print('{:<20} {:>10} {:>20} {:>20}'.format('Relevant features',\n",
    "                                           np.round(np.mean([res[0]['jmeans']['accuracy'] for res in results]),4),\n",
    "                                           np.round(np.mean([res[0]['jmeans']['avg_precision'] for res in results]),4),\n",
    "                                           np.round(np.mean([res[0]['jmeans']['avg_recall'] for res in results]),4)))\n",
    "print('{:<20} {:>10} {:>20} {:>20}'.format('Projected features',\n",
    "                                           np.round(np.mean([res[1]['jmeans']['accuracy'] for res in results]),4),\n",
    "                                           np.round(np.mean([res[1]['jmeans']['avg_precision'] for res in results]),4),\n",
    "                                           np.round(np.mean([res[1]['jmeans']['avg_recall'] for res in results]),4)))"
   ]
  },
  {
   "cell_type": "markdown",
   "metadata": {},
   "source": [
    "### K-means"
   ]
  },
  {
   "cell_type": "code",
   "execution_count": 10,
   "metadata": {},
   "outputs": [
    {
     "name": "stdout",
     "output_type": "stream",
     "text": [
      "                       Accuracy    Average precision       Average recall\n",
      "Relevant features         0.688                0.705               0.6832\n",
      "Projected features       0.6435               0.6655               0.6501\n"
     ]
    }
   ],
   "source": [
    "# K-means accuracy\n",
    "print('{:<20} {:>10} {:>20} {:>20}'.format('','Accuracy', 'Average precision', 'Average recall'))\n",
    "print('{:<20} {:>10} {:>20} {:>20}'.format('Relevant features',\n",
    "                                           np.round(np.mean([res[0]['kmeans']['accuracy'] for res in results]),4),\n",
    "                                           np.round(np.mean([res[0]['kmeans']['avg_precision'] for res in results]),4),\n",
    "                                           np.round(np.mean([res[0]['kmeans']['avg_recall'] for res in results]),4)))\n",
    "print('{:<20} {:>10} {:>20} {:>20}'.format('Projected features',\n",
    "                                           np.round(np.mean([res[1]['kmeans']['accuracy'] for res in results]),4),\n",
    "                                           np.round(np.mean([res[1]['kmeans']['avg_precision'] for res in results]),4),\n",
    "                                           np.round(np.mean([res[1]['kmeans']['avg_recall'] for res in results]),4)))"
   ]
  },
  {
   "cell_type": "markdown",
   "metadata": {},
   "source": [
    "### Per stage results"
   ]
  },
  {
   "cell_type": "code",
   "execution_count": 11,
   "metadata": {
    "scrolled": true
   },
   "outputs": [
    {
     "name": "stdout",
     "output_type": "stream",
     "text": [
      "                      Precision               Recall\n",
      "Sleep stage 1               1.0               0.7823\n",
      "Sleep stage 2            0.5723               0.6556\n",
      "Sleep stage 3            0.7325               0.5759\n",
      "Sleep stage 4            0.9147               0.8935\n",
      "Sleep stage 5            0.3057               0.5086\n"
     ]
    }
   ],
   "source": [
    "[res[0]['kmeans']['precision'] for res in results]\n",
    "\n",
    "print('{:<20} {:>10} {:>20}'.format('','Precision', 'Recall'))\n",
    "for i in range(1,6):\n",
    "    print('{:<20} {:>10} {:>20}'.format('Sleep stage {}'.format(i),\n",
    "                                    np.round(np.mean([res[0]['kmeans']['precision'] for res in results], axis=0)[i-1],4),\n",
    "                                    np.round(np.mean([res[0]['kmeans']['recall'] for res in results], axis=0)[i-1],4),))"
   ]
  },
  {
   "cell_type": "markdown",
   "metadata": {},
   "source": [
    "### Confusion matrix"
   ]
  },
  {
   "cell_type": "code",
   "execution_count": 12,
   "metadata": {},
   "outputs": [
    {
     "data": {
      "image/png": "[encoded data removed]",
      "text/plain": [
       "<Figure size 432x288 with 1 Axes>"
      ]
     },
     "metadata": {
      "needs_background": "light"
     },
     "output_type": "display_data"
    }
   ],
   "source": [
    "cm = confusion_matrix(y, pred_label, labels=np.arange(1,6))\n",
    "\n",
    "fig = plt.figure()\n",
    "axes = plt.gca()\n",
    "plt.imshow(cm)\n",
    "axes.xaxis.tick_top()\n",
    "plt.show()"
   ]
  },
  {
   "cell_type": "markdown",
   "metadata": {},
   "source": [
    "## Spectral features"
   ]
  },
  {
   "cell_type": "markdown",
   "metadata": {},
   "source": [
    "#### Load spectral features"
   ]
  },
  {
   "cell_type": "code",
   "execution_count": 13,
   "metadata": {},
   "outputs": [],
   "source": [
    "spectral_features_path = os.path.join(data_path, 'spectral_features/')"
   ]
  },
  {
   "cell_type": "markdown",
   "metadata": {},
   "source": [
    "#### Clustering"
   ]
  },
  {
   "cell_type": "code",
   "execution_count": 14,
   "metadata": {
    "scrolled": true
   },
   "outputs": [
    {
     "name": "stdout",
     "output_type": "stream",
     "text": [
      "ID : 18 | Night 2\n"
     ]
    }
   ],
   "source": [
    "spect_results = []\n",
    "\n",
    "for i, (id, night) in enumerate(subjects):\n",
    "    \n",
    "    print('ID : {} | Night {}'.format(id, night))    \n",
    "\n",
    "    subject_features = features[(features['id']==id) & (features['night']==night)]\n",
    "\n",
    "    y = subject_features.label.to_numpy()\n",
    "    X_all = np.load(spectral_features_path + '{}_{}.npy'.format(id,night))\n",
    "    X_relevant, _  = features_relevance_analysis_2(X_all, variance_criterion=0.98)\n",
    "    X_projected, _ = features_relevance_analysis(X_all, variance_criterion=0.98)\n",
    "    \n",
    "    tmp_res = []\n",
    "    \n",
    "    for X in [X_all, X_relevant, X_projected]: \n",
    "        scores = {}\n",
    "        \n",
    "        # K-means\n",
    "        kmeans = KMeans(n_clusters=5)\n",
    "        pred = kmeans.fit_predict(X)\n",
    "        cluster_to_label = best_cluster_assignment(y, pred)\n",
    "        pred_label = [cluster_to_label[cluster] for cluster in pred]\n",
    "\n",
    "        scores['kmeans'] = {\n",
    "            'accuracy': accuracy_score(y, pred_label),\n",
    "            'precision': precision_score(y, pred_label, average=None),\n",
    "            'avg_precision': precision_score(y, pred_label, average='macro'),\n",
    "            'recall': recall_score(y, pred_label, average=None),\n",
    "            'avg_recall': recall_score(y, pred_label, average='macro')\n",
    "        }\n",
    "        \n",
    "        tmp_res.append(scores)\n",
    "    spect_results.append(tmp_res)"
   ]
  },
  {
   "cell_type": "markdown",
   "metadata": {},
   "source": [
    "#### Results"
   ]
  },
  {
   "cell_type": "code",
   "execution_count": 15,
   "metadata": {},
   "outputs": [
    {
     "name": "stdout",
     "output_type": "stream",
     "text": [
      "                       Accuracy    Average precision       Average recall\n",
      "Relevant features        0.7065               0.7405               0.7112\n",
      "Projected features        0.687               0.7153               0.6816\n"
     ]
    }
   ],
   "source": [
    "# K-means accuracy\n",
    "print('{:<20} {:>10} {:>20} {:>20}'.format('','Accuracy', 'Average precision', 'Average recall'))\n",
    "print('{:<20} {:>10} {:>20} {:>20}'.format('Relevant features',\n",
    "                                           np.round(np.mean([res[0]['kmeans']['accuracy'] for res in spect_results]),4),\n",
    "                                           np.round(np.mean([res[0]['kmeans']['avg_precision'] for res in spect_results]),4),\n",
    "                                           np.round(np.mean([res[0]['kmeans']['avg_recall'] for res in spect_results]),4)))\n",
    "print('{:<20} {:>10} {:>20} {:>20}'.format('Projected features',\n",
    "                                           np.round(np.mean([res[1]['kmeans']['accuracy'] for res in spect_results]),4),\n",
    "                                           np.round(np.mean([res[1]['kmeans']['avg_precision'] for res in spect_results]),4),\n",
    "                                           np.round(np.mean([res[1]['kmeans']['avg_recall'] for res in spect_results]),4)))"
   ]
  }
 ],
 "metadata": {
  "kernelspec": {
   "display_name": "Python 3",
   "language": "python",
   "name": "python3"
  },
  "language_info": {
   "codemirror_mode": {
    "name": "ipython",
    "version": 3
   },
   "file_extension": ".py",
   "mimetype": "text/x-python",
   "name": "python",
   "nbconvert_exporter": "python",
   "pygments_lexer": "ipython3",
   "version": "3.8.3"
  }
 },
 "nbformat": 4,
 "nbformat_minor": 4
}
